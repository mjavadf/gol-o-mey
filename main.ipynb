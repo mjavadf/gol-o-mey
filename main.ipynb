{
 "cells": [
  {
   "cell_type": "code",
   "execution_count": 3,
   "id": "c08b225c",
   "metadata": {},
   "outputs": [
    {
     "name": "stdout",
     "output_type": "stream",
     "text": [
      "Cleaning done. Saved as the_rubaiyat_clean.txt\n"
     ]
    }
   ],
   "source": [
    "with open(\"sources/the_rubaiyat.txt\", \"r\", encoding=\"utf-8\") as f:\n",
    "    lines = f.readlines()\n",
    "\n",
    "cleaned = []\n",
    "prev_blank = False\n",
    "for line in lines:\n",
    "    line = line.strip()\n",
    "    if not line:\n",
    "        if not prev_blank:\n",
    "            cleaned.append(\"\")  # keep only one blank line\n",
    "        prev_blank = True\n",
    "    else:\n",
    "        cleaned.append(line)\n",
    "        prev_blank = False\n",
    "\n",
    "with open(\"the_rubaiyat_clean.txt\", \"w\", encoding=\"utf-8\") as f:\n",
    "    f.write(\"\\n\".join(cleaned))\n",
    "\n",
    "print(\"Cleaning done. Saved as the_rubaiyat_clean.txt\")\n"
   ]
  },
  {
   "cell_type": "code",
   "execution_count": 1,
   "id": "be5eb0f2",
   "metadata": {},
   "outputs": [
    {
     "name": "stdout",
     "output_type": "stream",
     "text": [
      "Done. Wrote rubaiyat_body.xml\n"
     ]
    }
   ],
   "source": [
    "# Transform Rubáiyát plain text to TEI-like blocks (no functions)\n",
    "\n",
    "import html\n",
    "from pathlib import Path\n",
    "\n",
    "# === Input / Output files ===\n",
    "in_path  = Path(\"sources/the_rubaiyat_clean.txt\")   # use your cleaned file; change if needed\n",
    "out_path = Path(\"rubaiyat_body.xml\")        # will contain the <body> ... </body> fragment\n",
    "\n",
    "# === Read and normalize lines ===\n",
    "text = in_path.read_text(encoding=\"utf-8\")\n",
    "# Normalize newlines and strip trailing spaces\n",
    "lines = [ln.strip() for ln in text.replace(\"\\r\\n\", \"\\n\").replace(\"\\r\", \"\\n\").split(\"\\n\")]\n",
    "\n",
    "# === Split into stanzas (blank line = new stanza). Collapse multiple blanks. ===\n",
    "stanzas = []\n",
    "current = []\n",
    "for ln in lines:\n",
    "    if ln == \"\":\n",
    "        if current:\n",
    "            stanzas.append(current)\n",
    "            current = []\n",
    "    else:\n",
    "        current.append(ln)\n",
    "if current:\n",
    "    stanzas.append(current)\n",
    "\n",
    "# Fallback: if the file had no blank lines but it *is* quatrains, chunk in 4s\n",
    "if len(stanzas) == 1 and len(stanzas[0]) > 4:\n",
    "    flat = stanzas[0]\n",
    "    stanzas = [flat[i:i+4] for i in range(0, len(flat), 4)]\n",
    "\n",
    "# === Build XML fragment ===\n",
    "parts = []\n",
    "parts.append(\"<body>\")\n",
    "\n",
    "for i, stanza in enumerate(stanzas, start=1):\n",
    "    parts.append(f'  <div type=\"rubaiyat\" n=\"{i}\">')\n",
    "    parts.append('    <lg type=\"rubai\">')\n",
    "    for l in stanza:\n",
    "        safe = html.escape(l, quote=True)\n",
    "        parts.append(f\"      <l>{safe}</l>\")\n",
    "    parts.append(\"    </lg>\")\n",
    "    parts.append(\"  </div>\")\n",
    "\n",
    "parts.append(\"</body>\")\n",
    "\n",
    "xml_body = \"\\n\".join(parts)\n",
    "out_path.write_text(xml_body, encoding=\"utf-8\")\n",
    "\n",
    "print(f\"Done. Wrote {out_path}\")\n"
   ]
  }
 ],
 "metadata": {
  "kernelspec": {
   "display_name": ".venv",
   "language": "python",
   "name": "python3"
  },
  "language_info": {
   "codemirror_mode": {
    "name": "ipython",
    "version": 3
   },
   "file_extension": ".py",
   "mimetype": "text/x-python",
   "name": "python",
   "nbconvert_exporter": "python",
   "pygments_lexer": "ipython3",
   "version": "3.13.1"
  }
 },
 "nbformat": 4,
 "nbformat_minor": 5
}

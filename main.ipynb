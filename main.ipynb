{
 "cells": [
  {
   "cell_type": "code",
   "execution_count": 3,
   "id": "c08b225c",
   "metadata": {},
   "outputs": [
    {
     "name": "stdout",
     "output_type": "stream",
     "text": [
      "Cleaning done. Saved as the_rubaiyat_clean.txt\n"
     ]
    }
   ],
   "source": [
    "with open(\"sources/the_rubaiyat.txt\", \"r\", encoding=\"utf-8\") as f:\n",
    "    lines = f.readlines()\n",
    "\n",
    "cleaned = []\n",
    "prev_blank = False\n",
    "for line in lines:\n",
    "    line = line.strip()\n",
    "    if not line:\n",
    "        if not prev_blank:\n",
    "            cleaned.append(\"\")  # keep only one blank line\n",
    "        prev_blank = True\n",
    "    else:\n",
    "        cleaned.append(line)\n",
    "        prev_blank = False\n",
    "\n",
    "with open(\"the_rubaiyat_clean.txt\", \"w\", encoding=\"utf-8\") as f:\n",
    "    f.write(\"\\n\".join(cleaned))\n",
    "\n",
    "print(\"Cleaning done. Saved as the_rubaiyat_clean.txt\")\n"
   ]
  }
 ],
 "metadata": {
  "kernelspec": {
   "display_name": ".venv",
   "language": "python",
   "name": "python3"
  },
  "language_info": {
   "codemirror_mode": {
    "name": "ipython",
    "version": 3
   },
   "file_extension": ".py",
   "mimetype": "text/x-python",
   "name": "python",
   "nbconvert_exporter": "python",
   "pygments_lexer": "ipython3",
   "version": "3.13.1"
  }
 },
 "nbformat": 4,
 "nbformat_minor": 5
}
